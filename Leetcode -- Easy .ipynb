{
 "cells": [
  {
   "cell_type": "markdown",
   "id": "d3099a4c",
   "metadata": {},
   "source": [
    "496. Next Greater Element I\n",
    "https://leetcode.com/problems/next-greater-element-i/description/"
   ]
  },
  {
   "cell_type": "code",
   "execution_count": null,
   "id": "6aa41f71",
   "metadata": {},
   "outputs": [],
   "source": [
    "class Solution:\n",
    "    def nextGreaterElement(self, nums1: List[int], nums2: List[int]) -> List[int]:\n",
    "        nums1idx= { n:i for i,n in enumerate(nums1)}\n",
    "        res=[-1]*len(nums1)\n",
    "        stack=[]\n",
    "        for i in range(len(nums2)):\n",
    "            cur=nums2[i]\n",
    "            while stack and cur > stack[-1]:\n",
    "                val= stack.pop()\n",
    "                idx= nums1idx[val]\n",
    "                res[idx]=cur\n",
    "            if cur in nums1idx:\n",
    "                stack.append(cur)\n",
    "        return res"
   ]
  },
  {
   "cell_type": "markdown",
   "id": "538ac9eb",
   "metadata": {},
   "source": [
    "49.anagram https://leetcode.com/problems/valid-anagram/submissions/879678564/"
   ]
  },
  {
   "cell_type": "code",
   "execution_count": null,
   "id": "6769c078",
   "metadata": {},
   "outputs": [],
   "source": [
    "class Solution:\n",
    "    def isAnagram(self, s: str, t: str) -> bool:\n",
    "        if len(s)!= len(t):\n",
    "            return False\n",
    "        cs,ct={},{}\n",
    "        for i in range(len(s)):\n",
    "            cs[s[i]]= 1+ cs.get(s[i],0)\n",
    "            ct[t[i]]= 1+ ct.get(t[i],0)\n",
    "        for c in cs:\n",
    "            if cs[c]!= ct.get(c):\n",
    "                return False\n",
    "        return True\n",
    "\n",
    "\n",
    "##  2nd method\n",
    "    return sorted(s)==sorted(t)\n",
    "\n",
    "\n",
    "## 3rd method\n",
    "    from collections import Counter\n",
    "    return Counter(s)== Counter(t)\n"
   ]
  },
  {
   "cell_type": "markdown",
   "id": "9f01e7db",
   "metadata": {},
   "source": [
    "two sums \n",
    "https://leetcode.com/problems/two-sum/submissions/"
   ]
  },
  {
   "cell_type": "code",
   "execution_count": null,
   "id": "914993ea",
   "metadata": {},
   "outputs": [],
   "source": [
    "class Solution:\n",
    "    def twoSum(self, nums: List[int], target: int) -> List[int]:\n",
    "        prevmap={}\n",
    "        for i,n in enumerate(nums):\n",
    "            diff = target - n\n",
    "            if diff in prevmap:\n",
    "                return [prevmap[diff],i]\n",
    "            prevmap[n]=i\n",
    "        return"
   ]
  },
  {
   "cell_type": "markdown",
   "id": "9f2ed52e",
   "metadata": {},
   "source": [
    "53. maximum subarray https://leetcode.com/problems/maximum-subarray/description/"
   ]
  },
  {
   "cell_type": "code",
   "execution_count": null,
   "id": "81236878",
   "metadata": {},
   "outputs": [],
   "source": [
    "class Solution:\n",
    "    def maxSubArray(self, nums: List[int]) -> int:\n",
    "        maxsub = nums[0]\n",
    "        cursum=0\n",
    "        for n in nums:\n",
    "            if cursum<0:\n",
    "                cursum=0\n",
    "            cursum+=n\n",
    "            maxsub=max(cursum,maxsub)\n",
    "        return maxsub"
   ]
  },
  {
   "cell_type": "markdown",
   "id": "73d10f60",
   "metadata": {},
   "source": [
    "167. Two Sum II - Input Array Is Sorted  https://leetcode.com/problems/two-sum-ii-input-array-is-sorted/description/"
   ]
  },
  {
   "cell_type": "code",
   "execution_count": null,
   "id": "f427e680",
   "metadata": {},
   "outputs": [],
   "source": [
    "class Solution:\n",
    "    def twoSum(self, numbers: List[int], target: int) -> List[int]:\n",
    "        l,r = 0 ,len(numbers)-1\n",
    "        while l<r:\n",
    "            cursum= numbers[l]+numbers[r]\n",
    "            if cursum > target:\n",
    "                r-=1\n",
    "            elif cursum < target :\n",
    "                l+=1\n",
    "            else:\n",
    "                return [l+1,r+1]\n",
    "                "
   ]
  },
  {
   "cell_type": "markdown",
   "id": "507adc2d",
   "metadata": {},
   "source": [
    "198.house robber https://leetcode.com/problems/house-robber/description/"
   ]
  },
  {
   "cell_type": "code",
   "execution_count": null,
   "id": "4bf10b8c",
   "metadata": {},
   "outputs": [],
   "source": [
    "class Solution:\n",
    "    def rob(self, nums: List[int]) -> int:\n",
    "        r1,r2=0,0\n",
    "        for n in nums:\n",
    "            temp = max(n+r1,r2)\n",
    "            r1=r2\n",
    "            r2=temp\n",
    "        return r2"
   ]
  },
  {
   "cell_type": "markdown",
   "id": "4326cfbe",
   "metadata": {},
   "source": [
    "121.best-time-to-buy-and-sell-stock  https://leetcode.com/problems/best-time-to-buy-and-sell-stock/description/"
   ]
  },
  {
   "cell_type": "code",
   "execution_count": null,
   "id": "b0ee2de7",
   "metadata": {},
   "outputs": [],
   "source": [
    "class Solution:\n",
    "    def maxProfit(self, prices: List[int]) -> int:\n",
    "        l,r = 0,1  ## l= buy r = sell\n",
    "        maxprof = 0\n",
    "        while r < len(prices):\n",
    "            if prices[l]< prices[r]:\n",
    "                profit = prices[r] - prices[l]\n",
    "                maxprof = max(maxprof,profit)\n",
    "            else:\n",
    "                l=r\n",
    "            r+=1\n",
    "        return maxprof\n",
    "\n",
    "\n"
   ]
  },
  {
   "cell_type": "markdown",
   "id": "7a6064b6",
   "metadata": {},
   "source": [
    "70. climbing stairs  https://leetcode.com/problems/climbing-stairs/description/"
   ]
  },
  {
   "cell_type": "code",
   "execution_count": null,
   "id": "4cd58b4a",
   "metadata": {},
   "outputs": [],
   "source": [
    "class Solution:\n",
    "    def climbStairs(self, n: int) -> int:\n",
    "        one ,two =1,1\n",
    "        for i in range(n-1):\n",
    "            temp = one\n",
    "            one =one +two\n",
    "            two= temp\n",
    "        return one"
   ]
  },
  {
   "cell_type": "markdown",
   "id": "c2857865",
   "metadata": {},
   "source": [
    "20. valid-parentheses    https://leetcode.com/problems/valid-parentheses/description/"
   ]
  },
  {
   "cell_type": "code",
   "execution_count": null,
   "id": "a0de0b12",
   "metadata": {},
   "outputs": [],
   "source": [
    "class Solution:\n",
    "    def isValid(self, s: str) -> bool:\n",
    "        stack=[]\n",
    "        map = { \")\":\"(\",\"]\":\"[\",\"}\":\"{\"}\n",
    "        for c in s:\n",
    "            if c in map:\n",
    "\n",
    "                if stack and stack[-1]==map[c]:\n",
    "                    stack.pop()\n",
    "                else:\n",
    "                    return False\n",
    "            else:\n",
    "                stack.append(c)\n",
    "        return True if not stack else False\n",
    "                "
   ]
  },
  {
   "cell_type": "markdown",
   "id": "feb90b77",
   "metadata": {},
   "source": [
    "1299.replace-elements-with-greatest-element-on-right-side   https://leetcode.com/problems/replace-elements-with-greatest-element-on-right-side/description/"
   ]
  },
  {
   "cell_type": "code",
   "execution_count": null,
   "id": "ddfe3dc5",
   "metadata": {},
   "outputs": [],
   "source": [
    "class Solution:\n",
    "    def replaceElements(self, arr: List[int]) -> List[int]:\n",
    "        # max = -1\n",
    "        # reverse order\n",
    "        # newmax = max(oldmax,arr[i])\n",
    "\n",
    "        rightmax= -1\n",
    "        for i in range(len(arr)-1,-1,-1):\n",
    "            newmax = max(rightmax,arr[i])\n",
    "            arr[i]= rightmax\n",
    "            rightmax = newmax\n",
    "        return arr"
   ]
  },
  {
   "cell_type": "markdown",
   "id": "49a78633",
   "metadata": {},
   "source": [
    "202. happy-number     https://leetcode.com/problems/happy-number/description/"
   ]
  },
  {
   "cell_type": "code",
   "execution_count": null,
   "id": "04fa5d56",
   "metadata": {},
   "outputs": [],
   "source": [
    "class Solution:\n",
    "    def isHappy(self, n: int) -> bool:\n",
    "        visit = set()\n",
    "        while n not in visit:\n",
    "            visit.add(n)\n",
    "            n = self.sumofsquares(n)\n",
    "            if n==1:\n",
    "                return True\n",
    "        return False\n",
    "    \n",
    "    def sumofsquares(self, n: int) -> int:\n",
    "        op= 0\n",
    "        while n:\n",
    "            digit = n%10\n",
    "            digit = digit ** 2\n",
    "            op+=digit\n",
    "            n= n//10\n",
    "        return op\n",
    "\n"
   ]
  },
  {
   "cell_type": "markdown",
   "id": "4773f290",
   "metadata": {},
   "source": [
    "35. search-insert-position    https://leetcode.com/problems/search-insert-position/description/"
   ]
  },
  {
   "cell_type": "code",
   "execution_count": null,
   "id": "1088dfa2",
   "metadata": {},
   "outputs": [],
   "source": [
    "class Solution:\n",
    "    def searchInsert(self, nums: List[int], target: int) -> int:\n",
    "        l,r = 0 ,len(nums)-1\n",
    "        while l<=r:\n",
    "            mid = (l+r)//2\n",
    "            if target == nums[mid]:\n",
    "                return mid\n",
    "            if target> nums[mid]:\n",
    "                l= mid+1\n",
    "            else:\n",
    "                r = mid-1\n",
    "        return l"
   ]
  },
  {
   "cell_type": "markdown",
   "id": "5e6c22b9",
   "metadata": {},
   "source": [
    "1046. last-stone-weight https://leetcode.com/problems/last-stone-weight/description/"
   ]
  },
  {
   "cell_type": "code",
   "execution_count": null,
   "id": "ac860ba1",
   "metadata": {},
   "outputs": [],
   "source": [
    "import heapq\n",
    "class Solution:\n",
    "    def lastStoneWeight(self, stones: List[int]) -> int:\n",
    "        stones=[-s for s in stones]\n",
    "        heapq.heapify(stones)\n",
    "\n",
    "        while len(stones)>1:\n",
    "            first = heapq.heappop(stones)\n",
    "            sec = heapq.heappop(stones)\n",
    "            if (sec> first):\n",
    "                heapq.heappush(stones,first-sec)\n",
    "        stones.append(0)\n",
    "        return abs(stones[0]) "
   ]
  },
  {
   "cell_type": "markdown",
   "id": "c9bc9e2a",
   "metadata": {},
   "source": [
    "26.remove-duplicates-from-sorted-array  https://leetcode.com/problems/remove-duplicates-from-sorted-array/description/"
   ]
  },
  {
   "cell_type": "code",
   "execution_count": null,
   "id": "523cbbf4",
   "metadata": {},
   "outputs": [],
   "source": [
    "class Solution:\n",
    "    def removeDuplicates(self, nums: List[int]) -> int:\n",
    "        l=1\n",
    "        for r in range(1,len(nums)):\n",
    "            if nums[r]!=nums[r-1]:\n",
    "                nums[l]=nums[r]\n",
    "                l+=1\n",
    "        ## return nums[:l] when arr needed\n",
    "        return l"
   ]
  },
  {
   "cell_type": "markdown",
   "id": "66352eda",
   "metadata": {},
   "source": [
    "263.ugly-number  https://leetcode.com/problems/ugly-number/description/"
   ]
  },
  {
   "cell_type": "code",
   "execution_count": null,
   "id": "61b94a22",
   "metadata": {},
   "outputs": [],
   "source": [
    "class Solution:\n",
    "    def isUgly(self, n: int) -> bool:\n",
    "        if n<=0:\n",
    "            return False\n",
    "        for p in [2,3,5]:\n",
    "            while n%p==0:\n",
    "                n= n//p\n",
    "        return n==1\n"
   ]
  },
  {
   "cell_type": "markdown",
   "id": "a7996f97",
   "metadata": {},
   "source": [
    "746. min-cost-climbing-stairs https://leetcode.com/problems/min-cost-climbing-stairs/description/"
   ]
  },
  {
   "cell_type": "code",
   "execution_count": null,
   "id": "59bf7bb1",
   "metadata": {},
   "outputs": [],
   "source": [
    "class Solution:\n",
    "    def minCostClimbingStairs(self, cost: List[int]) -> int:\n",
    "        cost.append(0)\n",
    "        for i in range(len(cost)-3,-1,-1):\n",
    "            cost[i]+= min(cost[i+1],cost[i+2])\n",
    "        return min(cost[0],cost[1])"
   ]
  },
  {
   "cell_type": "markdown",
   "id": "2b1f77b5",
   "metadata": {},
   "source": [
    "125.valid-palindrome https://leetcode.com/problems/valid-palindrome/description/"
   ]
  },
  {
   "cell_type": "code",
   "execution_count": null,
   "id": "c2245663",
   "metadata": {},
   "outputs": [],
   "source": [
    "class Solution:\n",
    "    def isPalindrome(self, s: str) -> bool:\n",
    "        newstr= \"\"\n",
    "        for c in s:\n",
    "            if c.isalnum():\n",
    "                newstr+= c.lower()\n",
    "        return newstr == newstr[::-1]"
   ]
  },
  {
   "cell_type": "markdown",
   "id": "41c6443a",
   "metadata": {},
   "source": [
    "205. isomorphic-strings https://leetcode.com/problems/isomorphic-strings/description/"
   ]
  },
  {
   "cell_type": "code",
   "execution_count": null,
   "id": "f58893aa",
   "metadata": {},
   "outputs": [],
   "source": [
    "class Solution:\n",
    "    def isIsomorphic(self, s: str, t: str) -> bool:\n",
    "        maps ,mapt={},{}\n",
    "        for i in range(len(s)):\n",
    "            c1,c2 = s[i],t[i]\n",
    "            if ((c1 in maps and maps[c1]!= c2) or (c2 in mapt and mapt[c2]!= c1)):\n",
    "                return False\n",
    "            maps[c1]=c2\n",
    "            mapt[c2]=c1\n",
    "        return True"
   ]
  },
  {
   "cell_type": "markdown",
   "id": "e9f2d332",
   "metadata": {},
   "source": [
    "191.number-of-1-bits  https://leetcode.com/problems/number-of-1-bits/description/"
   ]
  },
  {
   "cell_type": "code",
   "execution_count": null,
   "id": "d84ccb0c",
   "metadata": {},
   "outputs": [],
   "source": [
    "class Solution:\n",
    "    def hammingWeight(self, n: int) -> int:\n",
    "        res = 0\n",
    "        while n:\n",
    "            res += n%2\n",
    "            n= n>>1\n",
    "        return res\n",
    "    \n",
    "## 2nd method\n",
    "class Solution:\n",
    "    def hammingWeight(self, n: int) -> int:\n",
    "        res = 0\n",
    "        while n:\n",
    "            n &= (n-1)\n",
    "            res+=1\n",
    "        return res"
   ]
  },
  {
   "cell_type": "markdown",
   "id": "b5b509fd",
   "metadata": {},
   "source": [
    "217.contains-duplicate https://leetcode.com/problems/contains-duplicate/description/"
   ]
  },
  {
   "cell_type": "code",
   "execution_count": null,
   "id": "260db40d",
   "metadata": {},
   "outputs": [],
   "source": [
    "class Solution:\n",
    "    def containsDuplicate(self, nums: List[int]) -> bool:\n",
    "        map = set()\n",
    "        for n in nums:\n",
    "            if n in map:\n",
    "                return True\n",
    "            map.add(n)\n",
    "        return False"
   ]
  },
  {
   "cell_type": "markdown",
   "id": "02471f13",
   "metadata": {},
   "source": [
    "605. can-place-flowers https://leetcode.com/problems/can-place-flowers/description/"
   ]
  },
  {
   "cell_type": "code",
   "execution_count": null,
   "id": "481b2fe4",
   "metadata": {},
   "outputs": [],
   "source": [
    "class Solution:\n",
    "    def canPlaceFlowers(self, flowerbed: List[int], n: int) -> bool:\n",
    "        f = [0]+ flowerbed+[0]\n",
    "        for i in range(1,len(f)-1):\n",
    "            if f[i-1]==0 and f[i]==0 and f[i+1]==0:\n",
    "                f[i]=1\n",
    "                n-=1\n",
    "        return n<=0"
   ]
  },
  {
   "cell_type": "markdown",
   "id": "2259f38e",
   "metadata": {},
   "source": [
    "28. find-the-index-of-the-first-occurrence-in-a-string https://leetcode.com/problems/find-the-index-of-the-first-occurrence-in-a-string/description/"
   ]
  },
  {
   "cell_type": "code",
   "execution_count": null,
   "id": "f41dad89",
   "metadata": {},
   "outputs": [],
   "source": [
    "class Solution:\n",
    "    def strStr(self, haystack: str, needle: str) -> int:\n",
    "        if needle==\"\":\n",
    "            return 0\n",
    "        for i in range(len(haystack)+1 -len(needle)):\n",
    "            if haystack[i: i+len(needle)]== needle:\n",
    "                return i\n",
    "        return -1"
   ]
  },
  {
   "cell_type": "markdown",
   "id": "3667219b",
   "metadata": {},
   "source": [
    "977. squares-of-a-sorted-array https://leetcode.com/problems/squares-of-a-sorted-array/description/"
   ]
  },
  {
   "cell_type": "code",
   "execution_count": null,
   "id": "606867cf",
   "metadata": {},
   "outputs": [],
   "source": [
    "class Solution:\n",
    "    def sortedSquares(self, nums: List[int]) -> List[int]:\n",
    "        res =[]\n",
    "        l,r = 0, len(nums)-1\n",
    "        while l<=r :\n",
    "            if nums[l] **2 > nums[r] **2:\n",
    "                res.append(nums[l] **2)\n",
    "                l+=1\n",
    "            else:\n",
    "                res.append(nums[r] **2)\n",
    "                r-=1\n",
    "        return res[::-1]\n",
    "            "
   ]
  },
  {
   "cell_type": "markdown",
   "id": "f4d27158",
   "metadata": {},
   "source": [
    "283. move-zeroes https://leetcode.com/problems/move-zeroes/description/"
   ]
  },
  {
   "cell_type": "code",
   "execution_count": null,
   "id": "38e0c942",
   "metadata": {},
   "outputs": [],
   "source": [
    "class Solution:\n",
    "    def moveZeroes(self, nums: List[int]) -> None:\n",
    "        \"\"\"\n",
    "        Do not return anything, modify nums in-place instead.\n",
    "        \"\"\"\n",
    "        l=0\n",
    "        for r in range(len(nums)):\n",
    "            if nums[r]:\n",
    "                nums[l],nums[r]= nums[r],nums[l]\n",
    "                l+=1\n",
    "        return nums"
   ]
  },
  {
   "cell_type": "markdown",
   "id": "7f24900c",
   "metadata": {},
   "source": [
    "136. single number https://leetcode.com/problems/single-number/description/"
   ]
  },
  {
   "cell_type": "code",
   "execution_count": null,
   "id": "8a1e8334",
   "metadata": {},
   "outputs": [],
   "source": [
    "class Solution:\n",
    "    def singleNumber(self, nums: List[int]) -> int:\n",
    "        res = 0\n",
    "        for n in nums:\n",
    "            res = res^ n\n",
    "        return res"
   ]
  },
  {
   "cell_type": "markdown",
   "id": "83c67f42",
   "metadata": {},
   "source": [
    "213. house-robber-ii https://leetcode.com/problems/house-robber-ii/description/"
   ]
  },
  {
   "cell_type": "code",
   "execution_count": null,
   "id": "acbb74b8",
   "metadata": {},
   "outputs": [],
   "source": [
    "class Solution:\n",
    "    def rob(self, nums: List[int]) -> int:\n",
    "        return max(nums[0],self.help(nums[1:]),self.help(nums[:-1]))\n",
    "\n",
    "    def help(self,num):\n",
    "        r1,r2 = 0,0\n",
    "        for n in num:\n",
    "            temp = max(n+r1,r2)\n",
    "            r1=r2\n",
    "            r2=temp\n",
    "        return r2\n",
    "        "
   ]
  },
  {
   "cell_type": "code",
   "execution_count": null,
   "id": "f16b8cb6",
   "metadata": {},
   "outputs": [],
   "source": []
  },
  {
   "cell_type": "code",
   "execution_count": null,
   "id": "ab32c33d",
   "metadata": {},
   "outputs": [],
   "source": []
  },
  {
   "cell_type": "code",
   "execution_count": null,
   "id": "bb19ee85",
   "metadata": {},
   "outputs": [],
   "source": []
  },
  {
   "cell_type": "code",
   "execution_count": null,
   "id": "b5da5ecc",
   "metadata": {},
   "outputs": [],
   "source": []
  },
  {
   "cell_type": "code",
   "execution_count": null,
   "id": "0b9de6ee",
   "metadata": {},
   "outputs": [],
   "source": []
  },
  {
   "cell_type": "code",
   "execution_count": null,
   "id": "10dcc688",
   "metadata": {},
   "outputs": [],
   "source": []
  },
  {
   "cell_type": "code",
   "execution_count": null,
   "id": "b969add5",
   "metadata": {},
   "outputs": [],
   "source": []
  },
  {
   "cell_type": "code",
   "execution_count": null,
   "id": "076aec59",
   "metadata": {},
   "outputs": [],
   "source": []
  },
  {
   "cell_type": "code",
   "execution_count": null,
   "id": "0e37a1e7",
   "metadata": {},
   "outputs": [],
   "source": []
  },
  {
   "cell_type": "code",
   "execution_count": null,
   "id": "1dc263f1",
   "metadata": {},
   "outputs": [],
   "source": []
  },
  {
   "cell_type": "code",
   "execution_count": null,
   "id": "5dddaf2f",
   "metadata": {},
   "outputs": [],
   "source": []
  },
  {
   "cell_type": "code",
   "execution_count": null,
   "id": "d11b4d69",
   "metadata": {},
   "outputs": [],
   "source": []
  },
  {
   "cell_type": "code",
   "execution_count": null,
   "id": "1e507936",
   "metadata": {},
   "outputs": [],
   "source": []
  },
  {
   "cell_type": "code",
   "execution_count": null,
   "id": "dba33a41",
   "metadata": {},
   "outputs": [],
   "source": []
  },
  {
   "cell_type": "code",
   "execution_count": null,
   "id": "bc96e0e2",
   "metadata": {},
   "outputs": [],
   "source": []
  },
  {
   "cell_type": "code",
   "execution_count": null,
   "id": "7f9421aa",
   "metadata": {},
   "outputs": [],
   "source": []
  },
  {
   "cell_type": "code",
   "execution_count": null,
   "id": "9b1d6548",
   "metadata": {},
   "outputs": [],
   "source": []
  },
  {
   "cell_type": "code",
   "execution_count": null,
   "id": "a8ea488d",
   "metadata": {},
   "outputs": [],
   "source": []
  },
  {
   "cell_type": "code",
   "execution_count": null,
   "id": "f9fb35a1",
   "metadata": {},
   "outputs": [],
   "source": []
  },
  {
   "cell_type": "code",
   "execution_count": null,
   "id": "a27f4f88",
   "metadata": {},
   "outputs": [],
   "source": []
  },
  {
   "cell_type": "code",
   "execution_count": null,
   "id": "f25da690",
   "metadata": {},
   "outputs": [],
   "source": []
  },
  {
   "cell_type": "code",
   "execution_count": null,
   "id": "34db27c0",
   "metadata": {},
   "outputs": [],
   "source": []
  },
  {
   "cell_type": "code",
   "execution_count": null,
   "id": "5a068cfd",
   "metadata": {},
   "outputs": [],
   "source": []
  },
  {
   "cell_type": "code",
   "execution_count": null,
   "id": "c29f0586",
   "metadata": {},
   "outputs": [],
   "source": []
  },
  {
   "cell_type": "code",
   "execution_count": null,
   "id": "2b334035",
   "metadata": {},
   "outputs": [],
   "source": []
  },
  {
   "cell_type": "code",
   "execution_count": null,
   "id": "5e5147e9",
   "metadata": {},
   "outputs": [],
   "source": []
  },
  {
   "cell_type": "code",
   "execution_count": null,
   "id": "d7168bd8",
   "metadata": {},
   "outputs": [],
   "source": []
  },
  {
   "cell_type": "code",
   "execution_count": null,
   "id": "c6809cb8",
   "metadata": {},
   "outputs": [],
   "source": []
  },
  {
   "cell_type": "code",
   "execution_count": null,
   "id": "d2656cc1",
   "metadata": {},
   "outputs": [],
   "source": []
  },
  {
   "cell_type": "code",
   "execution_count": null,
   "id": "01720e2a",
   "metadata": {},
   "outputs": [],
   "source": [
    "\n",
    "\n"
   ]
  },
  {
   "cell_type": "code",
   "execution_count": null,
   "id": "a867fc85",
   "metadata": {},
   "outputs": [],
   "source": []
  },
  {
   "cell_type": "code",
   "execution_count": null,
   "id": "4afa39da",
   "metadata": {},
   "outputs": [],
   "source": []
  },
  {
   "cell_type": "code",
   "execution_count": null,
   "id": "38b82dca",
   "metadata": {},
   "outputs": [],
   "source": []
  },
  {
   "cell_type": "code",
   "execution_count": null,
   "id": "ca6b4a32",
   "metadata": {},
   "outputs": [],
   "source": []
  },
  {
   "cell_type": "code",
   "execution_count": null,
   "id": "6cfbb426",
   "metadata": {},
   "outputs": [],
   "source": []
  },
  {
   "cell_type": "code",
   "execution_count": null,
   "id": "cb3e5ed7",
   "metadata": {},
   "outputs": [],
   "source": []
  },
  {
   "cell_type": "code",
   "execution_count": null,
   "id": "485b38b2",
   "metadata": {},
   "outputs": [],
   "source": []
  },
  {
   "cell_type": "code",
   "execution_count": null,
   "id": "de83a4e2",
   "metadata": {},
   "outputs": [],
   "source": []
  },
  {
   "cell_type": "code",
   "execution_count": null,
   "id": "610f1353",
   "metadata": {},
   "outputs": [],
   "source": []
  },
  {
   "cell_type": "code",
   "execution_count": null,
   "id": "dff02e01",
   "metadata": {},
   "outputs": [],
   "source": [
    "\n"
   ]
  },
  {
   "cell_type": "code",
   "execution_count": null,
   "id": "e5c5613f",
   "metadata": {},
   "outputs": [],
   "source": []
  },
  {
   "cell_type": "code",
   "execution_count": null,
   "id": "d09715cf",
   "metadata": {},
   "outputs": [],
   "source": []
  },
  {
   "cell_type": "code",
   "execution_count": null,
   "id": "3a7b48ef",
   "metadata": {},
   "outputs": [],
   "source": []
  }
 ],
 "metadata": {
  "kernelspec": {
   "display_name": "Python 3.9 (tensorflow)",
   "language": "python",
   "name": "tensorflow"
  },
  "language_info": {
   "codemirror_mode": {
    "name": "ipython",
    "version": 3
   },
   "file_extension": ".py",
   "mimetype": "text/x-python",
   "name": "python",
   "nbconvert_exporter": "python",
   "pygments_lexer": "ipython3",
   "version": "3.9.15"
  }
 },
 "nbformat": 4,
 "nbformat_minor": 5
}
